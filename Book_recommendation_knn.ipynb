{
  "cells": [
    {
      "cell_type": "markdown",
      "metadata": {
        "id": "view-in-github",
        "colab_type": "text"
      },
      "source": [
        "<a href=\"https://colab.research.google.com/github/neeraj-pola/Book-recommendation-using-knn/blob/main/Book_recommendation_knn.ipynb\" target=\"_parent\"><img src=\"https://colab.research.google.com/assets/colab-badge.svg\" alt=\"Open In Colab\"/></a>"
      ]
    },
    {
      "cell_type": "code",
      "execution_count": null,
      "metadata": {
        "id": "Y1onB6kUvo4Z"
      },
      "outputs": [],
      "source": [
        "# import libraries (you may add additional imports but you may not have to)\n",
        "import numpy as np\n",
        "import pandas as pd\n",
        "from scipy.sparse import csr_matrix\n",
        "from sklearn.neighbors import NearestNeighbors\n",
        "import matplotlib.pyplot as plt"
      ]
    },
    {
      "cell_type": "code",
      "execution_count": null,
      "metadata": {
        "id": "iAQGqqO_vo4d",
        "colab": {
          "base_uri": "https://localhost:8080/"
        },
        "outputId": "6c8dd65a-00ed-45bc-bcc4-b3fb54e2ce9d"
      },
      "outputs": [
        {
          "output_type": "stream",
          "name": "stdout",
          "text": [
            "--2022-11-08 16:08:23--  https://cdn.freecodecamp.org/project-data/books/book-crossings.zip\n",
            "Resolving cdn.freecodecamp.org (cdn.freecodecamp.org)... 104.26.3.33, 172.67.70.149, 104.26.2.33, ...\n",
            "Connecting to cdn.freecodecamp.org (cdn.freecodecamp.org)|104.26.3.33|:443... connected.\n",
            "HTTP request sent, awaiting response... 200 OK\n",
            "Length: 26085508 (25M) [application/zip]\n",
            "Saving to: ‘book-crossings.zip’\n",
            "\n",
            "book-crossings.zip  100%[===================>]  24.88M  37.3MB/s    in 0.7s    \n",
            "\n",
            "2022-11-08 16:08:24 (37.3 MB/s) - ‘book-crossings.zip’ saved [26085508/26085508]\n",
            "\n",
            "Archive:  book-crossings.zip\n",
            "  inflating: BX-Book-Ratings.csv     \n",
            "  inflating: BX-Books.csv            \n",
            "  inflating: BX-Users.csv            \n"
          ]
        }
      ],
      "source": [
        "# get data files\n",
        "!wget https://cdn.freecodecamp.org/project-data/books/book-crossings.zip\n",
        "\n",
        "!unzip book-crossings.zip\n",
        "\n",
        "books_filename = 'BX-Books.csv'\n",
        "ratings_filename = 'BX-Book-Ratings.csv'"
      ]
    },
    {
      "cell_type": "code",
      "execution_count": null,
      "metadata": {
        "id": "NClILWOiEd6Q"
      },
      "outputs": [],
      "source": [
        "# import csv data into dataframes\n",
        "df_books = pd.read_csv(\n",
        "    books_filename,\n",
        "    encoding = \"ISO-8859-1\",\n",
        "    sep=\";\",\n",
        "    header=0,\n",
        "    names=['isbn', 'title', 'author'],\n",
        "    usecols=['isbn', 'title', 'author'],\n",
        "    dtype={'isbn': 'str', 'title': 'str', 'author': 'str'})\n",
        "\n",
        "df_ratings = pd.read_csv(\n",
        "    ratings_filename,\n",
        "    encoding = \"ISO-8859-1\",\n",
        "    sep=\";\",\n",
        "    header=0,\n",
        "    names=['user', 'isbn', 'rating'],\n",
        "    usecols=['user', 'isbn', 'rating'],\n",
        "    dtype={'user': 'int32', 'isbn': 'str', 'rating': 'float32'})"
      ]
    },
    {
      "cell_type": "code",
      "source": [
        "print(df_books)\n",
        "print(df_ratings)"
      ],
      "metadata": {
        "colab": {
          "base_uri": "https://localhost:8080/"
        },
        "id": "tMqVhZyiGKdA",
        "outputId": "1e9b276d-4519-4423-a7aa-76554e000b94"
      },
      "execution_count": null,
      "outputs": [
        {
          "output_type": "stream",
          "name": "stdout",
          "text": [
            "              isbn                                              title  \\\n",
            "0       0195153448                                Classical Mythology   \n",
            "1       0002005018                                       Clara Callan   \n",
            "2       0060973129                               Decision in Normandy   \n",
            "3       0374157065  Flu: The Story of the Great Influenza Pandemic...   \n",
            "4       0393045218                             The Mummies of Urumchi   \n",
            "...            ...                                                ...   \n",
            "271374  0440400988                         There's a Bat in Bunk Five   \n",
            "271375  0525447644                            From One to One Hundred   \n",
            "271376  006008667X  Lily Dale : The True Story of the Town that Ta...   \n",
            "271377  0192126040                        Republic (World's Classics)   \n",
            "271378  0767409752  A Guided Tour of Rene Descartes' Meditations o...   \n",
            "\n",
            "                      author  \n",
            "0         Mark P. O. Morford  \n",
            "1       Richard Bruce Wright  \n",
            "2               Carlo D'Este  \n",
            "3           Gina Bari Kolata  \n",
            "4            E. J. W. Barber  \n",
            "...                      ...  \n",
            "271374        Paula Danziger  \n",
            "271375            Teri Sloat  \n",
            "271376      Christine Wicker  \n",
            "271377                 Plato  \n",
            "271378   Christopher  Biffle  \n",
            "\n",
            "[271379 rows x 3 columns]\n",
            "           user         isbn  rating\n",
            "0        276725   034545104X     0.0\n",
            "1        276726   0155061224     5.0\n",
            "2        276727   0446520802     0.0\n",
            "3        276729   052165615X     3.0\n",
            "4        276729   0521795028     6.0\n",
            "...         ...          ...     ...\n",
            "1149775  276704   1563526298     9.0\n",
            "1149776  276706   0679447156     0.0\n",
            "1149777  276709   0515107662    10.0\n",
            "1149778  276721   0590442449    10.0\n",
            "1149779  276723  05162443314     8.0\n",
            "\n",
            "[1149780 rows x 3 columns]\n"
          ]
        }
      ]
    },
    {
      "cell_type": "code",
      "execution_count": null,
      "metadata": {
        "id": "xAcXjkCFCh0A"
      },
      "outputs": [],
      "source": [
        "user_ratingCount = (df_ratings.\n",
        "     groupby(by = ['user'])['rating'].\n",
        "     count().\n",
        "     reset_index().\n",
        "     rename(columns = {'rating': 'totalRatingCount'})\n",
        "     [['user', 'totalRatingCount']]\n",
        ")"
      ]
    },
    {
      "cell_type": "code",
      "source": [
        "users_to_remove = user_ratingCount.query('totalRatingCount > 200').user.tolist()"
      ],
      "metadata": {
        "id": "tiit8axTGeq6"
      },
      "execution_count": null,
      "outputs": []
    },
    {
      "cell_type": "code",
      "source": [
        "df = pd.merge(df_ratings,df_books,on='isbn')\n",
        "df"
      ],
      "metadata": {
        "colab": {
          "base_uri": "https://localhost:8080/",
          "height": 424
        },
        "id": "BT38hmlFGyce",
        "outputId": "a2c0e26f-e957-490f-dc0b-c57814296d3d"
      },
      "execution_count": null,
      "outputs": [
        {
          "output_type": "execute_result",
          "data": {
            "text/plain": [
              "           user        isbn  rating  \\\n",
              "0        276725  034545104X     0.0   \n",
              "1          2313  034545104X     5.0   \n",
              "2          6543  034545104X     0.0   \n",
              "3          8680  034545104X     5.0   \n",
              "4         10314  034545104X     9.0   \n",
              "...         ...         ...     ...   \n",
              "1031170  276688  0517145553     0.0   \n",
              "1031171  276688  1575660792     7.0   \n",
              "1031172  276690  0590907301     0.0   \n",
              "1031173  276704  0679752714     0.0   \n",
              "1031174  276704  0806917695     5.0   \n",
              "\n",
              "                                                     title           author  \n",
              "0                                     Flesh Tones: A Novel       M. J. Rose  \n",
              "1                                     Flesh Tones: A Novel       M. J. Rose  \n",
              "2                                     Flesh Tones: A Novel       M. J. Rose  \n",
              "3                                     Flesh Tones: A Novel       M. J. Rose  \n",
              "4                                     Flesh Tones: A Novel       M. J. Rose  \n",
              "...                                                    ...              ...  \n",
              "1031170                                    Mostly Harmless    Douglas Adams  \n",
              "1031171                                        Gray Matter  Shirley Kennett  \n",
              "1031172  Triplet Trouble and the Class Trip (Triplet Tr...     Debbie Dadey  \n",
              "1031173  A Desert of Pure Feeling (Vintage Contemporaries)   Judith Freeman  \n",
              "1031174  Perplexing Lateral Thinking Puzzles: Scholasti...      Paul Sloane  \n",
              "\n",
              "[1031175 rows x 5 columns]"
            ],
            "text/html": [
              "\n",
              "  <div id=\"df-f1e6001b-cdb9-45f0-ba0c-83fe8b6b4b76\">\n",
              "    <div class=\"colab-df-container\">\n",
              "      <div>\n",
              "<style scoped>\n",
              "    .dataframe tbody tr th:only-of-type {\n",
              "        vertical-align: middle;\n",
              "    }\n",
              "\n",
              "    .dataframe tbody tr th {\n",
              "        vertical-align: top;\n",
              "    }\n",
              "\n",
              "    .dataframe thead th {\n",
              "        text-align: right;\n",
              "    }\n",
              "</style>\n",
              "<table border=\"1\" class=\"dataframe\">\n",
              "  <thead>\n",
              "    <tr style=\"text-align: right;\">\n",
              "      <th></th>\n",
              "      <th>user</th>\n",
              "      <th>isbn</th>\n",
              "      <th>rating</th>\n",
              "      <th>title</th>\n",
              "      <th>author</th>\n",
              "    </tr>\n",
              "  </thead>\n",
              "  <tbody>\n",
              "    <tr>\n",
              "      <th>0</th>\n",
              "      <td>276725</td>\n",
              "      <td>034545104X</td>\n",
              "      <td>0.0</td>\n",
              "      <td>Flesh Tones: A Novel</td>\n",
              "      <td>M. J. Rose</td>\n",
              "    </tr>\n",
              "    <tr>\n",
              "      <th>1</th>\n",
              "      <td>2313</td>\n",
              "      <td>034545104X</td>\n",
              "      <td>5.0</td>\n",
              "      <td>Flesh Tones: A Novel</td>\n",
              "      <td>M. J. Rose</td>\n",
              "    </tr>\n",
              "    <tr>\n",
              "      <th>2</th>\n",
              "      <td>6543</td>\n",
              "      <td>034545104X</td>\n",
              "      <td>0.0</td>\n",
              "      <td>Flesh Tones: A Novel</td>\n",
              "      <td>M. J. Rose</td>\n",
              "    </tr>\n",
              "    <tr>\n",
              "      <th>3</th>\n",
              "      <td>8680</td>\n",
              "      <td>034545104X</td>\n",
              "      <td>5.0</td>\n",
              "      <td>Flesh Tones: A Novel</td>\n",
              "      <td>M. J. Rose</td>\n",
              "    </tr>\n",
              "    <tr>\n",
              "      <th>4</th>\n",
              "      <td>10314</td>\n",
              "      <td>034545104X</td>\n",
              "      <td>9.0</td>\n",
              "      <td>Flesh Tones: A Novel</td>\n",
              "      <td>M. J. Rose</td>\n",
              "    </tr>\n",
              "    <tr>\n",
              "      <th>...</th>\n",
              "      <td>...</td>\n",
              "      <td>...</td>\n",
              "      <td>...</td>\n",
              "      <td>...</td>\n",
              "      <td>...</td>\n",
              "    </tr>\n",
              "    <tr>\n",
              "      <th>1031170</th>\n",
              "      <td>276688</td>\n",
              "      <td>0517145553</td>\n",
              "      <td>0.0</td>\n",
              "      <td>Mostly Harmless</td>\n",
              "      <td>Douglas Adams</td>\n",
              "    </tr>\n",
              "    <tr>\n",
              "      <th>1031171</th>\n",
              "      <td>276688</td>\n",
              "      <td>1575660792</td>\n",
              "      <td>7.0</td>\n",
              "      <td>Gray Matter</td>\n",
              "      <td>Shirley Kennett</td>\n",
              "    </tr>\n",
              "    <tr>\n",
              "      <th>1031172</th>\n",
              "      <td>276690</td>\n",
              "      <td>0590907301</td>\n",
              "      <td>0.0</td>\n",
              "      <td>Triplet Trouble and the Class Trip (Triplet Tr...</td>\n",
              "      <td>Debbie Dadey</td>\n",
              "    </tr>\n",
              "    <tr>\n",
              "      <th>1031173</th>\n",
              "      <td>276704</td>\n",
              "      <td>0679752714</td>\n",
              "      <td>0.0</td>\n",
              "      <td>A Desert of Pure Feeling (Vintage Contemporaries)</td>\n",
              "      <td>Judith Freeman</td>\n",
              "    </tr>\n",
              "    <tr>\n",
              "      <th>1031174</th>\n",
              "      <td>276704</td>\n",
              "      <td>0806917695</td>\n",
              "      <td>5.0</td>\n",
              "      <td>Perplexing Lateral Thinking Puzzles: Scholasti...</td>\n",
              "      <td>Paul Sloane</td>\n",
              "    </tr>\n",
              "  </tbody>\n",
              "</table>\n",
              "<p>1031175 rows × 5 columns</p>\n",
              "</div>\n",
              "      <button class=\"colab-df-convert\" onclick=\"convertToInteractive('df-f1e6001b-cdb9-45f0-ba0c-83fe8b6b4b76')\"\n",
              "              title=\"Convert this dataframe to an interactive table.\"\n",
              "              style=\"display:none;\">\n",
              "        \n",
              "  <svg xmlns=\"http://www.w3.org/2000/svg\" height=\"24px\"viewBox=\"0 0 24 24\"\n",
              "       width=\"24px\">\n",
              "    <path d=\"M0 0h24v24H0V0z\" fill=\"none\"/>\n",
              "    <path d=\"M18.56 5.44l.94 2.06.94-2.06 2.06-.94-2.06-.94-.94-2.06-.94 2.06-2.06.94zm-11 1L8.5 8.5l.94-2.06 2.06-.94-2.06-.94L8.5 2.5l-.94 2.06-2.06.94zm10 10l.94 2.06.94-2.06 2.06-.94-2.06-.94-.94-2.06-.94 2.06-2.06.94z\"/><path d=\"M17.41 7.96l-1.37-1.37c-.4-.4-.92-.59-1.43-.59-.52 0-1.04.2-1.43.59L10.3 9.45l-7.72 7.72c-.78.78-.78 2.05 0 2.83L4 21.41c.39.39.9.59 1.41.59.51 0 1.02-.2 1.41-.59l7.78-7.78 2.81-2.81c.8-.78.8-2.07 0-2.86zM5.41 20L4 18.59l7.72-7.72 1.47 1.35L5.41 20z\"/>\n",
              "  </svg>\n",
              "      </button>\n",
              "      \n",
              "  <style>\n",
              "    .colab-df-container {\n",
              "      display:flex;\n",
              "      flex-wrap:wrap;\n",
              "      gap: 12px;\n",
              "    }\n",
              "\n",
              "    .colab-df-convert {\n",
              "      background-color: #E8F0FE;\n",
              "      border: none;\n",
              "      border-radius: 50%;\n",
              "      cursor: pointer;\n",
              "      display: none;\n",
              "      fill: #1967D2;\n",
              "      height: 32px;\n",
              "      padding: 0 0 0 0;\n",
              "      width: 32px;\n",
              "    }\n",
              "\n",
              "    .colab-df-convert:hover {\n",
              "      background-color: #E2EBFA;\n",
              "      box-shadow: 0px 1px 2px rgba(60, 64, 67, 0.3), 0px 1px 3px 1px rgba(60, 64, 67, 0.15);\n",
              "      fill: #174EA6;\n",
              "    }\n",
              "\n",
              "    [theme=dark] .colab-df-convert {\n",
              "      background-color: #3B4455;\n",
              "      fill: #D2E3FC;\n",
              "    }\n",
              "\n",
              "    [theme=dark] .colab-df-convert:hover {\n",
              "      background-color: #434B5C;\n",
              "      box-shadow: 0px 1px 3px 1px rgba(0, 0, 0, 0.15);\n",
              "      filter: drop-shadow(0px 1px 2px rgba(0, 0, 0, 0.3));\n",
              "      fill: #FFFFFF;\n",
              "    }\n",
              "  </style>\n",
              "\n",
              "      <script>\n",
              "        const buttonEl =\n",
              "          document.querySelector('#df-f1e6001b-cdb9-45f0-ba0c-83fe8b6b4b76 button.colab-df-convert');\n",
              "        buttonEl.style.display =\n",
              "          google.colab.kernel.accessAllowed ? 'block' : 'none';\n",
              "\n",
              "        async function convertToInteractive(key) {\n",
              "          const element = document.querySelector('#df-f1e6001b-cdb9-45f0-ba0c-83fe8b6b4b76');\n",
              "          const dataTable =\n",
              "            await google.colab.kernel.invokeFunction('convertToInteractive',\n",
              "                                                     [key], {});\n",
              "          if (!dataTable) return;\n",
              "\n",
              "          const docLinkHtml = 'Like what you see? Visit the ' +\n",
              "            '<a target=\"_blank\" href=https://colab.research.google.com/notebooks/data_table.ipynb>data table notebook</a>'\n",
              "            + ' to learn more about interactive tables.';\n",
              "          element.innerHTML = '';\n",
              "          dataTable['output_type'] = 'display_data';\n",
              "          await google.colab.output.renderOutput(dataTable, element);\n",
              "          const docLink = document.createElement('div');\n",
              "          docLink.innerHTML = docLinkHtml;\n",
              "          element.appendChild(docLink);\n",
              "        }\n",
              "      </script>\n",
              "    </div>\n",
              "  </div>\n",
              "  "
            ]
          },
          "metadata": {},
          "execution_count": 16
        }
      ]
    },
    {
      "cell_type": "code",
      "source": [
        "book_ratingCount = (df.\n",
        "     groupby(by = ['title'])['rating'].\n",
        "     count().\n",
        "     reset_index().\n",
        "     rename(columns = {'rating': 'totalRatingCount'})\n",
        "     [['title', 'totalRatingCount']]\n",
        "    )\n",
        "print(book_ratingCount)"
      ],
      "metadata": {
        "colab": {
          "base_uri": "https://localhost:8080/"
        },
        "id": "eQdt_d3iG59-",
        "outputId": "7e1822ba-8877-4492-d54f-f75dfb364d11"
      },
      "execution_count": null,
      "outputs": [
        {
          "output_type": "stream",
          "name": "stdout",
          "text": [
            "                                                    title  totalRatingCount\n",
            "0        A Light in the Storm: The Civil War Diary of ...                 4\n",
            "1                                   Always Have Popsicles                 1\n",
            "2                    Apple Magic (The Collector's series)                 1\n",
            "3        Ask Lily (Young Women of Faith: Lily Series, ...                 1\n",
            "4        Beyond IBM: Leadership Marketing and Finance ...                 1\n",
            "...                                                   ...               ...\n",
            "241085                                      Ã?Â?lpiraten.                 2\n",
            "241086                     Ã?Â?rger mit Produkt X. Roman.                 4\n",
            "241087                                Ã?Â?sterlich leben.                 1\n",
            "241088                              Ã?Â?stlich der Berge.                 3\n",
            "241089                                  Ã?Â?thique en toc                 2\n",
            "\n",
            "[241090 rows x 2 columns]\n"
          ]
        }
      ]
    },
    {
      "cell_type": "code",
      "source": [
        "rating_with_totalRatingCount = df.merge(book_ratingCount, left_on = 'title', right_on = 'title', how = 'left')\n",
        "pd.set_option('display.float_format', lambda x: '%.3f' % x)"
      ],
      "metadata": {
        "id": "ND9Y9pLSHErW"
      },
      "execution_count": null,
      "outputs": []
    },
    {
      "cell_type": "code",
      "source": [
        "rating_popular_movie = rating_with_totalRatingCount.query('totalRatingCount > 100')"
      ],
      "metadata": {
        "id": "wPxSJeXIHRXv"
      },
      "execution_count": null,
      "outputs": []
    },
    {
      "cell_type": "code",
      "source": [
        "rating_popular_movie = rating_popular_movie[rating_popular_movie['user'].isin(users_to_remove)]"
      ],
      "metadata": {
        "id": "xQZTMi4DHSH6"
      },
      "execution_count": null,
      "outputs": []
    },
    {
      "cell_type": "code",
      "source": [
        "book_features_df = rating_popular_movie.pivot_table(index='title',columns='user',values='rating').fillna(0)\n",
        "book_features_df_matrix = csr_matrix(book_features_df.values)\n",
        "print(book_features_df_matrix)"
      ],
      "metadata": {
        "colab": {
          "base_uri": "https://localhost:8080/"
        },
        "id": "l-GiNbbIHWAQ",
        "outputId": "b2aac1d3-f07a-4ec8-9e02-f261b13eca2a"
      },
      "execution_count": null,
      "outputs": [
        {
          "output_type": "stream",
          "name": "stdout",
          "text": [
            "  (0, 0)\t9.0\n",
            "  (0, 16)\t8.0\n",
            "  (0, 26)\t3.3333333\n",
            "  (0, 37)\t9.0\n",
            "  (0, 42)\t8.0\n",
            "  (0, 59)\t7.0\n",
            "  (0, 136)\t9.0\n",
            "  (0, 157)\t10.0\n",
            "  (0, 171)\t9.0\n",
            "  (0, 188)\t8.0\n",
            "  (0, 221)\t10.0\n",
            "  (0, 222)\t10.0\n",
            "  (0, 246)\t5.0\n",
            "  (0, 278)\t10.0\n",
            "  (0, 360)\t10.0\n",
            "  (0, 371)\t9.0\n",
            "  (0, 390)\t10.0\n",
            "  (0, 477)\t9.0\n",
            "  (0, 491)\t7.0\n",
            "  (0, 507)\t9.0\n",
            "  (0, 554)\t10.0\n",
            "  (0, 603)\t9.0\n",
            "  (0, 610)\t8.0\n",
            "  (0, 694)\t9.0\n",
            "  (0, 733)\t9.0\n",
            "  :\t:\n",
            "  (903, 16)\t8.0\n",
            "  (903, 26)\t3.5\n",
            "  (903, 86)\t10.0\n",
            "  (903, 104)\t2.5\n",
            "  (903, 112)\t5.0\n",
            "  (903, 151)\t6.0\n",
            "  (903, 234)\t7.0\n",
            "  (903, 291)\t8.0\n",
            "  (903, 304)\t9.0\n",
            "  (903, 323)\t10.0\n",
            "  (903, 368)\t10.0\n",
            "  (903, 385)\t9.0\n",
            "  (903, 446)\t7.0\n",
            "  (903, 450)\t9.0\n",
            "  (903, 485)\t7.0\n",
            "  (903, 490)\t3.0\n",
            "  (903, 498)\t10.0\n",
            "  (903, 505)\t8.0\n",
            "  (903, 544)\t10.0\n",
            "  (903, 592)\t8.0\n",
            "  (903, 699)\t10.0\n",
            "  (903, 712)\t8.0\n",
            "  (903, 744)\t10.0\n",
            "  (903, 829)\t9.0\n",
            "  (903, 879)\t8.0\n"
          ]
        }
      ]
    },
    {
      "cell_type": "code",
      "execution_count": null,
      "metadata": {
        "id": "f5ZUd-L1SQz7"
      },
      "outputs": [],
      "source": [
        "from sklearn.neighbors import NearestNeighbors\n",
        "# function to return recommended books - this will be tested\n",
        "def get_recommends(book = \"\"):\n",
        "\n",
        "  model_knn = NearestNeighbors(metric = 'cosine', n_neighbors=5, algorithm='auto')\n",
        "  model_knn.fit(book_features_df_matrix)\n",
        "  for query_index in range(len(book_features_df)):\n",
        "    if book_features_df.index[query_index] == book:\n",
        "        break\n",
        "\n",
        "  recommended_books = [book_features_df.index[query_index], []]\n",
        "  distances, indices = model_knn.kneighbors(book_features_df.iloc[query_index,:].values.reshape(1, -1))\n",
        "  # now we located the book. lets show the recomendations\n",
        "  for i in range(1, len(distances.flatten())):\n",
        "    recommended_books[1].insert(0, [book_features_df.index[indices.flatten()[i]], distances.flatten()[i]])\n",
        "  \n",
        "\n",
        "  return recommended_books"
      ]
    },
    {
      "cell_type": "code",
      "source": [
        "books = get_recommends(\"Where the Heart Is (Oprah's Book Club (Paperback))\")\n",
        "print(books)"
      ],
      "metadata": {
        "id": "caDJUPXRIIWX",
        "outputId": "ff677e01-9778-406b-f6f7-6685e70880c3",
        "colab": {
          "base_uri": "https://localhost:8080/"
        }
      },
      "execution_count": null,
      "outputs": [
        {
          "output_type": "stream",
          "name": "stdout",
          "text": [
            "[\"Where the Heart Is (Oprah's Book Club (Paperback))\", [['The Weight of Water', 0.77085835], ['I Know This Much Is True', 0.7529293], ['The Lovely Bones: A Novel', 0.7230184], ['Blue Diary', 0.71828747]]]\n"
          ]
        }
      ]
    },
    {
      "cell_type": "code",
      "execution_count": null,
      "metadata": {
        "id": "jd2SLCh8oxMh",
        "colab": {
          "base_uri": "https://localhost:8080/"
        },
        "outputId": "43b321da-4539-4818-f402-b3ee077eff96"
      },
      "outputs": [
        {
          "output_type": "stream",
          "name": "stdout",
          "text": [
            "[\"Where the Heart Is (Oprah's Book Club (Paperback))\", [['The Weight of Water', 0.77085835], ['I Know This Much Is True', 0.7529293], ['The Lovely Bones: A Novel', 0.7230184], ['Blue Diary', 0.71828747]]]\n",
            "You passed the challenge! 🎉🎉🎉🎉🎉\n"
          ]
        }
      ],
      "source": [
        "books = get_recommends(\"Where the Heart Is (Oprah's Book Club (Paperback))\")\n",
        "print(books)\n",
        "\n",
        "def test_book_recommendation():\n",
        "  test_pass = True\n",
        "  recommends = get_recommends(\"Where the Heart Is (Oprah's Book Club (Paperback))\")\n",
        "  if recommends[0] != \"Where the Heart Is (Oprah's Book Club (Paperback))\":\n",
        "    test_pass = False\n",
        "  recommended_books = [\"I'll Be Seeing You\", 'The Weight of Water', 'The Surgeon', 'I Know This Much Is True']\n",
        "  recommended_books_dist = [0.8, 0.77, 0.77, 0.77]\n",
        "  for i in range(2): \n",
        "    if recommends[1][i][0] not in recommended_books:\n",
        "      test_pass = False\n",
        "    if abs(recommends[1][i][1] - recommended_books_dist[i]) >= 0.05:\n",
        "      test_pass = False\n",
        "  if test_pass:\n",
        "    print(\"You passed the challenge! 🎉🎉🎉🎉🎉\")\n",
        "  else:\n",
        "    print(\"You haven't passed yet. Keep trying!\")\n",
        "\n",
        "test_book_recommendation()"
      ]
    }
  ],
  "metadata": {
    "colab": {
      "provenance": [],
      "include_colab_link": true
    },
    "kernelspec": {
      "display_name": "Python 3",
      "language": "python",
      "name": "python3"
    },
    "language_info": {
      "codemirror_mode": {
        "name": "ipython",
        "version": 3
      },
      "file_extension": ".py",
      "mimetype": "text/x-python",
      "name": "python",
      "nbconvert_exporter": "python",
      "pygments_lexer": "ipython3",
      "version": "3.6.5"
    }
  },
  "nbformat": 4,
  "nbformat_minor": 0
}